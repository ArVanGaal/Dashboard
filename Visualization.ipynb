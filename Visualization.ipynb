{
 "cells": [
  {
   "cell_type": "code",
   "id": "initial_id",
   "metadata": {
    "collapsed": true,
    "ExecuteTime": {
     "end_time": "2025-04-25T08:21:25.869832Z",
     "start_time": "2025-04-25T08:21:25.745027Z"
    }
   },
   "source": [
    "#Dashboard to follow the personal progress in the studies of Artificial Intelligene B.Sc.\n",
    "##Github as Version Control will be used to track the changes and to have a fallback option in case of issues\n",
    "###My SQL will be used to store data in a database to ensure availability in case the personal computer crashes\n",
    "\n",
    "#Establishing connection between mysql and pycharm\n",
    "\n",
    "import mysql.connector\n",
    "\n",
    "mydb = mysql.connector.connect(\n",
    "    host = \"localhost\",\n",
    "    user = \"root\",\n",
    "    password = \"Hochzeit2309\",\n",
    ")\n",
    "\n",
    "mycursor = mydb.cursor()\n",
    "\n",
    "#Import date aus datetime um Datenanzeige zu ermöglichen\n",
    "from datetime import date\n",
    "\n",
    "# Ausstellungsdatum gleich Erstellungsdatum deshalb .today\n",
    "timestamp = date.today()\n",
    "\n",
    "#Formatierung der Ausgabe, um die Defaultausgabe in YYYY-MM-DD zu vermeiden\n",
    "\n",
    "format_timestamp = timestamp.strftime(\"%d.%m.%Y\")\n",
    "print(\"Ausstellungsdatum: \" + format_timestamp)"
   ],
   "outputs": [
    {
     "name": "stdout",
     "output_type": "stream",
     "text": [
      "Ausstellungsdatum: 25.04.2025\n"
     ]
    }
   ],
   "execution_count": 1
  },
  {
   "metadata": {},
   "cell_type": "code",
   "outputs": [],
   "execution_count": null,
   "source": "",
   "id": "e43602e91b2a0bdb"
  }
 ],
 "metadata": {
  "kernelspec": {
   "display_name": "Python 3",
   "language": "python",
   "name": "python3"
  },
  "language_info": {
   "codemirror_mode": {
    "name": "ipython",
    "version": 2
   },
   "file_extension": ".py",
   "mimetype": "text/x-python",
   "name": "python",
   "nbconvert_exporter": "python",
   "pygments_lexer": "ipython2",
   "version": "2.7.6"
  }
 },
 "nbformat": 4,
 "nbformat_minor": 5
}
