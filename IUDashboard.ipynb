{
 "cells": [
  {
   "metadata": {},
   "cell_type": "markdown",
   "source": "# **Dashboard of Studies**",
   "id": "87236499e11580ee"
  },
  {
   "metadata": {
    "collapsed": true,
    "ExecuteTime": {
     "end_time": "2025-05-08T19:15:05.373589Z",
     "start_time": "2025-05-08T19:14:08.048710Z"
    }
   },
   "cell_type": "code",
   "source": [
    "#Dashboard to follow the personal progress in the studies of Artificial Intelligene B.Sc.\n",
    "##Github as Version Control will be used to track the changes and to have a fallback option in case of issues\n",
    "###My SQL will be used to store data in a database to ensure availability in case the personal computer crashes\n",
    "\n",
    "#Establishing connection between mysql and pycharm\n",
    "\n",
    "import mysql.connector\n",
    "\n",
    "mydb = mysql.connector.connect(\n",
    "    host = \"localhost\",\n",
    "    user = \"root\",\n",
    "    password = \"Hochzeit2309\",\n",
    ")\n",
    "\n",
    "mycursor = mydb.cursor()\n",
    "\n",
    "#Eingabekontrolle mit Anzeige des eingegebenen Wertes und Bestätigung durch yes oder no, gegebenenfalls Korrekturschleife\n",
    "# \"Yes\" wird durch .lower in allen Varianten akzeptiert, um Fehlerrate zu senken\n",
    "\n",
    "student_lastname = input(\"Enter your lastname\")\n",
    "\n",
    "while True:\n",
    "    Correct = input (\"Your lastname is: \" + student_lastname + \". Is this correct? Enter yes or no: \")\n",
    "    if Correct.lower() == \"yes\":\n",
    "        break\n",
    "    else:\n",
    "        student_lastname = input(\"Please correct your input and enter your lastname again: \")\n",
    "        print(f\"You corrected your Lastname to: {student_lastname}\")\n",
    "\n",
    "student_firstname = input(\"Enter your firstname\")\n",
    "\n",
    "while True:\n",
    "    Correct = input (\"Your firstname is: \" + student_firstname + \". Is this correct? Enter yes or no: \")\n",
    "    if Correct.lower() == \"yes\":\n",
    "        break\n",
    "    else:\n",
    "        student_firstname = input(\"Please correct your input and enter your firstname again: \")\n",
    "\n",
    "\n",
    "student_birthday = input(\"Enter your birthday\")\n",
    "\n",
    "while True:\n",
    "    Correct = input (\"Your birthday is: \" + student_birthday + \". Is this correct? Enter yes or no: \")\n",
    "    if Correct.lower() == \"yes\":\n",
    "        break\n",
    "    else:\n",
    "        student_birthday = input(\"Please correct your input and enter your birthday again: \")\n",
    "\n",
    "\n",
    "student_placebirth = input(\"Enter your place of birth\")\n",
    "\n",
    "while True:\n",
    "    Correct = input (\"Your place of birth is: \" + student_placebirth + \". Is this correct? Enter yes or no: \")\n",
    "    if Correct.lower() == \"yes\":\n",
    "        break\n",
    "    else:\n",
    "        student_placebirth = input(\"Please correct your input and enter your place of birth again: \")\n",
    "\n",
    "\n",
    "student_studentnumber = input(\"Enter your IU student number\")\n",
    "\n",
    "while True:\n",
    "    Correct = input (\"Your studentnumber is: \" + student_studentnumber + \". Is this correct? Enter yes or no: \")\n",
    "    if Correct.lower() == \"yes\":\n",
    "        break\n",
    "    else:\n",
    "        student_studentnumber = input(\"Please correct your input and enter your studentnumber again: \")\n",
    "\n",
    "\n",
    "student_studystart = input(\"Enter when you started your studies\")\n",
    "\n",
    "while True:\n",
    "    Correct = input (\"Your start of study was: \" + student_studystart + \". Is this correct? Enter yes or no: \")\n",
    "    if Correct.lower() == \"yes\":\n",
    "        break\n",
    "    else:\n",
    "        student_studystart = input(\"Please correct your input and enter your lastname again: \")\n",
    "\n",
    "\n",
    "print(\"Nachname: \"+ student_lastname)\n",
    "print(\"Vorname: \"+ student_firstname)\n",
    "print(\"Geburtstag: \"+ student_birthday)\n",
    "print(\"Geburtsort: \"+ student_placebirth)\n",
    "print(\"Matrikelnummer: \"+ student_studentnumber)\n",
    "\n",
    "#Studiengang hardcoded, da das Dashboard nur für diesen Studiengang gültig\n",
    "print(\"Studiengang: Bachelor of Science Angewandte Künstliche Intelligenz\")\n",
    "print(\"Studienbeginn:\"+ student_studystart)"
   ],
   "id": "initial_id",
   "outputs": [
    {
     "name": "stdout",
     "output_type": "stream",
     "text": [
      "Nachname: Gallinger\n",
      "Vorname: Arthur\n",
      "Geburtstag: 10.05.1990\n",
      "Geburtsort: Fergana\n",
      "Matrikelnummer: IU123\n",
      "Studiengang: Bachelor of Science Angewandte Künstliche Intelligenz\n",
      "Studienbeginn:01.01.2025\n"
     ]
    }
   ],
   "execution_count": 13
  },
  {
   "metadata": {
    "ExecuteTime": {
     "end_time": "2025-05-05T14:17:21.046908Z",
     "start_time": "2025-05-05T14:17:15.588090Z"
    }
   },
   "cell_type": "code",
   "source": [
    "#Formatierung der Eingabe bedenken -> IU + Anzahl der Ziffern; Geburtstag in DD.MM.JJJJ Format; Studienbeginn ebenfalls, das auch in der Eingabeaufforderung darstellen\n",
    "#Fehlermanagement bei falscher Eingabe implementieren"
   ],
   "id": "84baf4bbb0116518",
   "outputs": [
    {
     "name": "stdout",
     "output_type": "stream",
     "text": [
      "Lastname: Gallingre\n"
     ]
    }
   ],
   "execution_count": 24
  }
 ],
 "metadata": {
  "kernelspec": {
   "display_name": "Python 3",
   "language": "python",
   "name": "python3"
  },
  "language_info": {
   "codemirror_mode": {
    "name": "ipython",
    "version": 2
   },
   "file_extension": ".py",
   "mimetype": "text/x-python",
   "name": "python",
   "nbconvert_exporter": "python",
   "pygments_lexer": "ipython2",
   "version": "2.7.6"
  }
 },
 "nbformat": 4,
 "nbformat_minor": 5
}
