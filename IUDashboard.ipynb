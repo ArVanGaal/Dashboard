{
 "cells": [
  {
   "metadata": {},
   "cell_type": "markdown",
   "source": "# **Dashboard of Studies**",
   "id": "87236499e11580ee"
  },
  {
   "metadata": {
    "collapsed": true,
    "ExecuteTime": {
     "end_time": "2025-05-09T10:38:38.200515Z",
     "start_time": "2025-05-09T10:38:35.402446Z"
    }
   },
   "cell_type": "code",
   "source": [
    "#Dashboard to follow the personal progress in the studies of Artificial Intelligene B.Sc.\n",
    "##Github as Version Control will be used to track the changes and to have a fallback option in case of issues\n",
    "###My SQL will be used to store data in a database to ensure availability in case the personal computer crashes\n",
    "\n",
    "#Establishing connection between mysql and pycharm\n",
    "\n",
    "import mysql.connector\n",
    "\n",
    "mydb = mysql.connector.connect(\n",
    "    host = \"localhost\",\n",
    "    user = \"root\",\n",
    "    password = \"Hochzeit2309\",\n",
    ")\n",
    "\n",
    "mycursor = mydb.cursor()\n",
    "\n",
    "#Eingabekontrolle mit Anzeige des eingegebenen Wertes und Bestätigung durch yes oder no, gegebenenfalls Korrekturschleife\n",
    "# \"Yes\" wird durch .lower in allen Varianten akzeptiert, um Fehlerrate zu senken\n",
    "\n",
    "student_lastname = input(\"Enter your lastname\")\n",
    "\n",
    "while True:\n",
    "    Correct = input (\"Your lastname is: \" + student_lastname + \". Is this correct? Enter yes or no: \")\n",
    "    if Correct.lower() == \"yes\":\n",
    "        break\n",
    "    else:\n",
    "        student_lastname = input(\"Please correct your input and enter your lastname again: \")\n",
    "        print(f\"You corrected your Lastname to: {student_lastname}\")\n",
    "\n",
    "student_firstname = input(\"Enter your firstname\")\n",
    "\n",
    "while True:\n",
    "    Correct = input (\"Your firstname is: \" + student_firstname + \". Is this correct? Enter yes or no: \")\n",
    "    if Correct.lower() == \"yes\":\n",
    "        break\n",
    "    else:\n",
    "        student_firstname = input(\"Please correct your input and enter your firstname again: \")\n",
    "\n",
    "\n",
    "student_birthday = input(\"Enter your birthday in \\\"DD.MM.JJJJ\\\" format\")\n",
    "\n",
    "while True:\n",
    "    Correct = input (\"Your birthday is: \" + student_birthday + \". Is this correct? Enter yes or no: \")\n",
    "    if Correct.lower() == \"yes\":\n",
    "        break\n",
    "    else:\n",
    "        student_birthday = input(\"Please correct your input and enter your birthday again: \")\n",
    "\n",
    "\n",
    "student_placebirth = input(\"Enter your place of birth in \\\"City, Country\\\" format\")\n",
    "\n",
    "while True:\n",
    "    Correct = input (\"Your place of birth is: \" + student_placebirth + \". Is this correct? Enter yes or no: \")\n",
    "    if Correct.lower() == \"yes\":\n",
    "        break\n",
    "    else:\n",
    "        student_placebirth = input(\"Please correct your input and enter your place of birth again: \")\n",
    "\n",
    "\n",
    "student_studentnumber = input(int(\"Enter the digits of your IU-student number\"))\n",
    "\n",
    "while True:\n",
    "    Correct = input (\"Your studentnumber is: \" + student_studentnumber + \". Is this correct? Enter yes or no: \")\n",
    "    if Correct.lower() == \"yes\":\n",
    "        break\n",
    "    else:\n",
    "        student_studentnumber = input(\"Please correct your input and enter your studentnumber again: \")\n",
    "\n",
    "iu_student_studentnumber = \"IU\" + student_studentnumber\n",
    "\n",
    "student_studystart = input(\"Enter when you started your studies in \\\"DD.MM.JJJJ\\\" format\")\n",
    "\n",
    "while True:\n",
    "    Correct = input (\"Your start of study was: \" + student_studystart + \". Is this correct? Enter yes or no: \")\n",
    "    if Correct.lower() == \"yes\":\n",
    "        break\n",
    "    else:\n",
    "        student_studystart = input(\"Please correct your input and enter your start of studies again: \")\n",
    "\n",
    "\n",
    "print(\"Nachname: \"+ student_lastname)\n",
    "print(\"Vorname: \"+ student_firstname)\n",
    "print(\"Geburtstag: \"+ student_birthday)\n",
    "print(\"Geburtsort: \"+ student_placebirth)\n",
    "print(\"Matrikelnummer: \"+ iu_student_studentnumber)\n",
    "\n",
    "#Studiengang hardcoded, da das Dashboard nur für diesen Studiengang gültig\n",
    "print(\"Studiengang: Bachelor of Science Angewandte Künstliche Intelligenz\")\n",
    "print(\"Studienbeginn:\"+ student_studystart)"
   ],
   "id": "initial_id",
   "outputs": [
    {
     "ename": "KeyboardInterrupt",
     "evalue": "Interrupted by user",
     "output_type": "error",
     "traceback": [
      "\u001B[1;31m---------------------------------------------------------------------------\u001B[0m",
      "\u001B[1;31mKeyboardInterrupt\u001B[0m                         Traceback (most recent call last)",
      "Cell \u001B[1;32mIn[6], line 20\u001B[0m\n\u001B[0;32m     15\u001B[0m mycursor \u001B[38;5;241m=\u001B[39m mydb\u001B[38;5;241m.\u001B[39mcursor()\n\u001B[0;32m     17\u001B[0m \u001B[38;5;66;03m#Eingabekontrolle mit Anzeige des eingegebenen Wertes und Bestätigung durch yes oder no, gegebenenfalls Korrekturschleife\u001B[39;00m\n\u001B[0;32m     18\u001B[0m \u001B[38;5;66;03m# \"Yes\" wird durch .lower in allen Varianten akzeptiert, um Fehlerrate zu senken\u001B[39;00m\n\u001B[1;32m---> 20\u001B[0m student_lastname \u001B[38;5;241m=\u001B[39m \u001B[38;5;28minput\u001B[39m(\u001B[38;5;124m\"\u001B[39m\u001B[38;5;124mEnter your lastname\u001B[39m\u001B[38;5;124m\"\u001B[39m)\n\u001B[0;32m     22\u001B[0m \u001B[38;5;28;01mwhile\u001B[39;00m \u001B[38;5;28;01mTrue\u001B[39;00m:\n\u001B[0;32m     23\u001B[0m     Correct \u001B[38;5;241m=\u001B[39m \u001B[38;5;28minput\u001B[39m (\u001B[38;5;124m\"\u001B[39m\u001B[38;5;124mYour lastname is: \u001B[39m\u001B[38;5;124m\"\u001B[39m \u001B[38;5;241m+\u001B[39m student_lastname \u001B[38;5;241m+\u001B[39m \u001B[38;5;124m\"\u001B[39m\u001B[38;5;124m. Is this correct? Enter yes or no: \u001B[39m\u001B[38;5;124m\"\u001B[39m)\n",
      "File \u001B[1;32m~\\anaconda3\\Lib\\site-packages\\ipykernel\\kernelbase.py:1262\u001B[0m, in \u001B[0;36mKernel.raw_input\u001B[1;34m(self, prompt)\u001B[0m\n\u001B[0;32m   1260\u001B[0m     msg \u001B[38;5;241m=\u001B[39m \u001B[38;5;124m\"\u001B[39m\u001B[38;5;124mraw_input was called, but this frontend does not support input requests.\u001B[39m\u001B[38;5;124m\"\u001B[39m\n\u001B[0;32m   1261\u001B[0m     \u001B[38;5;28;01mraise\u001B[39;00m StdinNotImplementedError(msg)\n\u001B[1;32m-> 1262\u001B[0m \u001B[38;5;28;01mreturn\u001B[39;00m \u001B[38;5;28mself\u001B[39m\u001B[38;5;241m.\u001B[39m_input_request(\n\u001B[0;32m   1263\u001B[0m     \u001B[38;5;28mstr\u001B[39m(prompt),\n\u001B[0;32m   1264\u001B[0m     \u001B[38;5;28mself\u001B[39m\u001B[38;5;241m.\u001B[39m_parent_ident[\u001B[38;5;124m\"\u001B[39m\u001B[38;5;124mshell\u001B[39m\u001B[38;5;124m\"\u001B[39m],\n\u001B[0;32m   1265\u001B[0m     \u001B[38;5;28mself\u001B[39m\u001B[38;5;241m.\u001B[39mget_parent(\u001B[38;5;124m\"\u001B[39m\u001B[38;5;124mshell\u001B[39m\u001B[38;5;124m\"\u001B[39m),\n\u001B[0;32m   1266\u001B[0m     password\u001B[38;5;241m=\u001B[39m\u001B[38;5;28;01mFalse\u001B[39;00m,\n\u001B[0;32m   1267\u001B[0m )\n",
      "File \u001B[1;32m~\\anaconda3\\Lib\\site-packages\\ipykernel\\kernelbase.py:1305\u001B[0m, in \u001B[0;36mKernel._input_request\u001B[1;34m(self, prompt, ident, parent, password)\u001B[0m\n\u001B[0;32m   1302\u001B[0m \u001B[38;5;28;01mexcept\u001B[39;00m \u001B[38;5;167;01mKeyboardInterrupt\u001B[39;00m:\n\u001B[0;32m   1303\u001B[0m     \u001B[38;5;66;03m# re-raise KeyboardInterrupt, to truncate traceback\u001B[39;00m\n\u001B[0;32m   1304\u001B[0m     msg \u001B[38;5;241m=\u001B[39m \u001B[38;5;124m\"\u001B[39m\u001B[38;5;124mInterrupted by user\u001B[39m\u001B[38;5;124m\"\u001B[39m\n\u001B[1;32m-> 1305\u001B[0m     \u001B[38;5;28;01mraise\u001B[39;00m \u001B[38;5;167;01mKeyboardInterrupt\u001B[39;00m(msg) \u001B[38;5;28;01mfrom\u001B[39;00m \u001B[38;5;28;01mNone\u001B[39;00m\n\u001B[0;32m   1306\u001B[0m \u001B[38;5;28;01mexcept\u001B[39;00m \u001B[38;5;167;01mException\u001B[39;00m:\n\u001B[0;32m   1307\u001B[0m     \u001B[38;5;28mself\u001B[39m\u001B[38;5;241m.\u001B[39mlog\u001B[38;5;241m.\u001B[39mwarning(\u001B[38;5;124m\"\u001B[39m\u001B[38;5;124mInvalid Message:\u001B[39m\u001B[38;5;124m\"\u001B[39m, exc_info\u001B[38;5;241m=\u001B[39m\u001B[38;5;28;01mTrue\u001B[39;00m)\n",
      "\u001B[1;31mKeyboardInterrupt\u001B[0m: Interrupted by user"
     ]
    }
   ],
   "execution_count": 6
  },
  {
   "metadata": {
    "ExecuteTime": {
     "end_time": "2025-05-26T19:15:26.188159Z",
     "start_time": "2025-05-26T19:15:14.734645Z"
    }
   },
   "cell_type": "code",
   "source": [
    "#Formatierung der Eingabe bedenken -> IU + Anzahl der Ziffern; Geburtstag in DD.MM.JJJJ Format; Studienbeginn ebenfalls, das auch in der Eingabeaufforderung darstellen\n",
    "#Fehlermanagement bei falscher Eingabe implementieren\n",
    "\n",
    "try:\n",
    "    student_studentnumber_input = input(\"Enter the digits of your IU-student number\")\n",
    "    student_studentnumber = int(student_studentnumber_input)\n",
    "\n",
    "    while True:\n",
    "        if student_studentnumber > 0 and len (student_studentnumber) < 9:\n",
    "                Correct = input (\"Your studentnumber is: \" + str(student_studentnumber) + \". Is this correct? Enter yes or no: \")\n",
    "                if Correct.lower() == \"yes\":\n",
    "                    break\n",
    "                else:\n",
    "                    student_studentnumber_input=  input (\"Please correct your input and enter your studentnumber again: \")\n",
    "                    student_studentnumber = int(student_studentnumber_input)\n",
    "        else:\n",
    "            student_studentnumber_input = input(\"Your input must be greater than 0. Please, enter the digits of you IU-student number\")\n",
    "            student_studentnumber = int(student_studentnumber_input)\n",
    "\n",
    "    iu_student_studentnumber = \"IU\" + str(student_studentnumber)\n",
    "\n",
    "    print (iu_student_studentnumber)\n",
    "\n",
    "except ValueError:\n",
    "    print (\"Invalid input! Please enter only digits\")\n",
    "\n"
   ],
   "id": "84baf4bbb0116518",
   "outputs": [
    {
     "ename": "TypeError",
     "evalue": "object of type 'int' has no len()",
     "output_type": "error",
     "traceback": [
      "\u001B[1;31m---------------------------------------------------------------------------\u001B[0m",
      "\u001B[1;31mTypeError\u001B[0m                                 Traceback (most recent call last)",
      "Cell \u001B[1;32mIn[22], line 9\u001B[0m\n\u001B[0;32m      6\u001B[0m student_studentnumber \u001B[38;5;241m=\u001B[39m \u001B[38;5;28mint\u001B[39m(student_studentnumber_input)\n\u001B[0;32m      8\u001B[0m \u001B[38;5;28;01mwhile\u001B[39;00m \u001B[38;5;28;01mTrue\u001B[39;00m:\n\u001B[1;32m----> 9\u001B[0m     \u001B[38;5;28;01mif\u001B[39;00m student_studentnumber \u001B[38;5;241m>\u001B[39m \u001B[38;5;241m0\u001B[39m \u001B[38;5;129;01mand\u001B[39;00m \u001B[38;5;28mlen\u001B[39m (student_studentnumber) \u001B[38;5;241m<\u001B[39m \u001B[38;5;241m9\u001B[39m:\n\u001B[0;32m     10\u001B[0m             Correct \u001B[38;5;241m=\u001B[39m \u001B[38;5;28minput\u001B[39m (\u001B[38;5;124m\"\u001B[39m\u001B[38;5;124mYour studentnumber is: \u001B[39m\u001B[38;5;124m\"\u001B[39m \u001B[38;5;241m+\u001B[39m \u001B[38;5;28mstr\u001B[39m(student_studentnumber) \u001B[38;5;241m+\u001B[39m \u001B[38;5;124m\"\u001B[39m\u001B[38;5;124m. Is this correct? Enter yes or no: \u001B[39m\u001B[38;5;124m\"\u001B[39m)\n\u001B[0;32m     11\u001B[0m             \u001B[38;5;28;01mif\u001B[39;00m Correct\u001B[38;5;241m.\u001B[39mlower() \u001B[38;5;241m==\u001B[39m \u001B[38;5;124m\"\u001B[39m\u001B[38;5;124myes\u001B[39m\u001B[38;5;124m\"\u001B[39m:\n",
      "\u001B[1;31mTypeError\u001B[0m: object of type 'int' has no len()"
     ]
    }
   ],
   "execution_count": 22
  },
  {
   "metadata": {
    "ExecuteTime": {
     "end_time": "2025-05-26T19:38:32.878208Z",
     "start_time": "2025-05-26T19:38:10.260360Z"
    }
   },
   "cell_type": "code",
   "source": [
    "#Formatierung der Eingabe bedenken -> IU + Anzahl der Ziffern; Geburtstag in DD.MM.JJJJ Format; Studienbeginn ebenfalls, das auch in der Eingabeaufforderung darstellen\n",
    "#Fehlermanagement bei falscher Eingabe implementieren\n",
    "\n",
    "try:\n",
    "    student_studentnumber = input(\"Enter the digits of your IU-student number\")\n",
    "\n",
    "\n",
    "    while True:\n",
    "        if student_studentnumber.isdigit() > 0 and len(student_studentnumber) == 8:\n",
    "                Correct = input (\"Your studentnumber is: \" + str(student_studentnumber) + \". Is this correct? Enter yes or no: \")\n",
    "                if Correct.lower() == \"yes\":\n",
    "                    break\n",
    "                else:\n",
    "                    student_studentnumber =  input (\"Please correct your input and enter your 8 digit studentnumber again: \")\n",
    "\n",
    "        else:\n",
    "            student_studentnumber = input(\"Your studentnumber must be a 8 digit number. Please, enter the digits of you IU-student number\")\n",
    "\n",
    "\n",
    "    iu_student_studentnumber = \"IU\" + str(student_studentnumber)\n",
    "\n",
    "    print (iu_student_studentnumber)\n",
    "\n",
    "except ValueError:\n",
    "    print (\"Invalid input! Please enter only digits\")"
   ],
   "id": "99ab5cc8f779249b",
   "outputs": [
    {
     "ename": "KeyboardInterrupt",
     "evalue": "Interrupted by user",
     "output_type": "error",
     "traceback": [
      "\u001B[1;31m---------------------------------------------------------------------------\u001B[0m",
      "\u001B[1;31mKeyboardInterrupt\u001B[0m                         Traceback (most recent call last)",
      "Cell \u001B[1;32mIn[32], line 9\u001B[0m\n\u001B[0;32m      7\u001B[0m \u001B[38;5;28;01mwhile\u001B[39;00m \u001B[38;5;28;01mTrue\u001B[39;00m:\n\u001B[0;32m      8\u001B[0m     \u001B[38;5;28;01mif\u001B[39;00m student_studentnumber\u001B[38;5;241m.\u001B[39misdigit() \u001B[38;5;241m>\u001B[39m \u001B[38;5;241m0\u001B[39m \u001B[38;5;129;01mand\u001B[39;00m \u001B[38;5;28mlen\u001B[39m(student_studentnumber) \u001B[38;5;241m==\u001B[39m \u001B[38;5;241m8\u001B[39m:\n\u001B[1;32m----> 9\u001B[0m             Correct \u001B[38;5;241m=\u001B[39m \u001B[38;5;28minput\u001B[39m (\u001B[38;5;124m\"\u001B[39m\u001B[38;5;124mYour studentnumber is: \u001B[39m\u001B[38;5;124m\"\u001B[39m \u001B[38;5;241m+\u001B[39m \u001B[38;5;28mstr\u001B[39m(student_studentnumber) \u001B[38;5;241m+\u001B[39m \u001B[38;5;124m\"\u001B[39m\u001B[38;5;124m. Is this correct? Enter yes or no: \u001B[39m\u001B[38;5;124m\"\u001B[39m)\n\u001B[0;32m     10\u001B[0m             \u001B[38;5;28;01mif\u001B[39;00m Correct\u001B[38;5;241m.\u001B[39mlower() \u001B[38;5;241m==\u001B[39m \u001B[38;5;124m\"\u001B[39m\u001B[38;5;124myes\u001B[39m\u001B[38;5;124m\"\u001B[39m:\n\u001B[0;32m     11\u001B[0m                 \u001B[38;5;28;01mbreak\u001B[39;00m\n",
      "File \u001B[1;32m~\\anaconda3\\Lib\\site-packages\\ipykernel\\kernelbase.py:1262\u001B[0m, in \u001B[0;36mKernel.raw_input\u001B[1;34m(self, prompt)\u001B[0m\n\u001B[0;32m   1260\u001B[0m     msg \u001B[38;5;241m=\u001B[39m \u001B[38;5;124m\"\u001B[39m\u001B[38;5;124mraw_input was called, but this frontend does not support input requests.\u001B[39m\u001B[38;5;124m\"\u001B[39m\n\u001B[0;32m   1261\u001B[0m     \u001B[38;5;28;01mraise\u001B[39;00m StdinNotImplementedError(msg)\n\u001B[1;32m-> 1262\u001B[0m \u001B[38;5;28;01mreturn\u001B[39;00m \u001B[38;5;28mself\u001B[39m\u001B[38;5;241m.\u001B[39m_input_request(\n\u001B[0;32m   1263\u001B[0m     \u001B[38;5;28mstr\u001B[39m(prompt),\n\u001B[0;32m   1264\u001B[0m     \u001B[38;5;28mself\u001B[39m\u001B[38;5;241m.\u001B[39m_parent_ident[\u001B[38;5;124m\"\u001B[39m\u001B[38;5;124mshell\u001B[39m\u001B[38;5;124m\"\u001B[39m],\n\u001B[0;32m   1265\u001B[0m     \u001B[38;5;28mself\u001B[39m\u001B[38;5;241m.\u001B[39mget_parent(\u001B[38;5;124m\"\u001B[39m\u001B[38;5;124mshell\u001B[39m\u001B[38;5;124m\"\u001B[39m),\n\u001B[0;32m   1266\u001B[0m     password\u001B[38;5;241m=\u001B[39m\u001B[38;5;28;01mFalse\u001B[39;00m,\n\u001B[0;32m   1267\u001B[0m )\n",
      "File \u001B[1;32m~\\anaconda3\\Lib\\site-packages\\ipykernel\\kernelbase.py:1305\u001B[0m, in \u001B[0;36mKernel._input_request\u001B[1;34m(self, prompt, ident, parent, password)\u001B[0m\n\u001B[0;32m   1302\u001B[0m \u001B[38;5;28;01mexcept\u001B[39;00m \u001B[38;5;167;01mKeyboardInterrupt\u001B[39;00m:\n\u001B[0;32m   1303\u001B[0m     \u001B[38;5;66;03m# re-raise KeyboardInterrupt, to truncate traceback\u001B[39;00m\n\u001B[0;32m   1304\u001B[0m     msg \u001B[38;5;241m=\u001B[39m \u001B[38;5;124m\"\u001B[39m\u001B[38;5;124mInterrupted by user\u001B[39m\u001B[38;5;124m\"\u001B[39m\n\u001B[1;32m-> 1305\u001B[0m     \u001B[38;5;28;01mraise\u001B[39;00m \u001B[38;5;167;01mKeyboardInterrupt\u001B[39;00m(msg) \u001B[38;5;28;01mfrom\u001B[39;00m \u001B[38;5;28;01mNone\u001B[39;00m\n\u001B[0;32m   1306\u001B[0m \u001B[38;5;28;01mexcept\u001B[39;00m \u001B[38;5;167;01mException\u001B[39;00m:\n\u001B[0;32m   1307\u001B[0m     \u001B[38;5;28mself\u001B[39m\u001B[38;5;241m.\u001B[39mlog\u001B[38;5;241m.\u001B[39mwarning(\u001B[38;5;124m\"\u001B[39m\u001B[38;5;124mInvalid Message:\u001B[39m\u001B[38;5;124m\"\u001B[39m, exc_info\u001B[38;5;241m=\u001B[39m\u001B[38;5;28;01mTrue\u001B[39;00m)\n",
      "\u001B[1;31mKeyboardInterrupt\u001B[0m: Interrupted by user"
     ]
    }
   ],
   "execution_count": 32
  }
 ],
 "metadata": {
  "kernelspec": {
   "display_name": "Python 3",
   "language": "python",
   "name": "python3"
  },
  "language_info": {
   "codemirror_mode": {
    "name": "ipython",
    "version": 2
   },
   "file_extension": ".py",
   "mimetype": "text/x-python",
   "name": "python",
   "nbconvert_exporter": "python",
   "pygments_lexer": "ipython2",
   "version": "2.7.6"
  }
 },
 "nbformat": 4,
 "nbformat_minor": 5
}
