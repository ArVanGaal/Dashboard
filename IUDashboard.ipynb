{
 "cells": [
  {
   "metadata": {},
   "cell_type": "markdown",
   "source": "# **Dashboard of Studies**\n",
   "id": "fc9c83777ba33a2c"
  },
  {
   "metadata": {
    "ExecuteTime": {
     "end_time": "2025-04-23T19:30:18.678092Z",
     "start_time": "2025-04-23T19:29:43.892874Z"
    }
   },
   "cell_type": "code",
   "source": [
    "from sphinx.builders.gettext import timestamp\n",
    "\n",
    "student_lastname =  input(\"Enter Your Lastname\")\n",
    "student_firstname = input(\"Enter Your First Name\")\n",
    "student_birthday = input(\"Enter Your Birthday\")\n",
    "student_placebirth = input(\"Enter Your Place Of Birth\")\n",
    "student_studentnumber = input(\"Enter Your IU Student Number\")\n",
    "student_studystart = input(\"Enter When You Started Your Studies\")\n",
    "\n",
    "print(\"Nachname: \"+ student_lastname)\n",
    "print(\"Vorname: \"+ student_firstname)\n",
    "print(\"Geburtstag: \"+ student_birthday)\n",
    "print(\"Geburtsort: \"+ student_placebirth)\n",
    "print(\"Matrikelnummer: \"+ student_studentnumber)\n",
    "print(\"Studiengang: Bachelor of Science Angewandte Künstliche Intelligenz\")\n",
    "print(\"Studienbeginn:\"+ student_studystart)\n"
   ],
   "id": "de4e2a1737d059e1",
   "outputs": [
    {
     "name": "stdout",
     "output_type": "stream",
     "text": [
      "Nachname: Gallinger\n",
      "Vorname: Arthur\n",
      "Geburtstag: 10.05.1990\n",
      "Geburtsort: Fergana, Usbekistan\n",
      "Matrikelnummer: IU123\n",
      "Studiengang: Bachelor of Science Angewandte Künstliche Intelligenz\n",
      "Studienbeginn:01.01.2024\n"
     ]
    }
   ],
   "execution_count": 9
  },
  {
   "metadata": {
    "ExecuteTime": {
     "end_time": "2025-04-23T19:48:43.192523Z",
     "start_time": "2025-04-23T19:48:43.044289Z"
    }
   },
   "cell_type": "code",
   "source": [
    "from datetime import date\n",
    "timestamp = date.today()\n",
    "print(\"Austellungsdatum: \" + timestamp)"
   ],
   "id": "aa1570513f355a10",
   "outputs": [
    {
     "ename": "TypeError",
     "evalue": "can only concatenate str (not \"datetime.date\") to str",
     "output_type": "error",
     "traceback": [
      "\u001B[1;31m---------------------------------------------------------------------------\u001B[0m",
      "\u001B[1;31mTypeError\u001B[0m                                 Traceback (most recent call last)",
      "Cell \u001B[1;32mIn[18], line 3\u001B[0m\n\u001B[0;32m      1\u001B[0m \u001B[38;5;28;01mfrom\u001B[39;00m \u001B[38;5;21;01mdatetime\u001B[39;00m \u001B[38;5;28;01mimport\u001B[39;00m date\n\u001B[0;32m      2\u001B[0m timestamp \u001B[38;5;241m=\u001B[39m date\u001B[38;5;241m.\u001B[39mtoday()\n\u001B[1;32m----> 3\u001B[0m \u001B[38;5;28mprint\u001B[39m(\u001B[38;5;124m\"\u001B[39m\u001B[38;5;124mAustellungsdatum: \u001B[39m\u001B[38;5;124m\"\u001B[39m \u001B[38;5;241m+\u001B[39m timestamp)\n",
      "\u001B[1;31mTypeError\u001B[0m: can only concatenate str (not \"datetime.date\") to str"
     ]
    }
   ],
   "execution_count": 18
  },
  {
   "metadata": {},
   "cell_type": "code",
   "outputs": [],
   "execution_count": null,
   "source": "",
   "id": "6c4bfa25ebc469bf"
  }
 ],
 "metadata": {
  "kernelspec": {
   "name": "python3",
   "language": "python",
   "display_name": "Python 3 (ipykernel)"
  }
 },
 "nbformat": 5,
 "nbformat_minor": 9
}
