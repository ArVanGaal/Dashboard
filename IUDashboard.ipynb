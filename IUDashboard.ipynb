{
 "cells": [
  {
   "cell_type": "code",
   "id": "initial_id",
   "metadata": {
    "collapsed": true,
    "ExecuteTime": {
     "end_time": "2025-04-25T08:17:30.257146Z",
     "start_time": "2025-04-25T08:17:30.020568Z"
    }
   },
   "source": [
    "#Dashboard to follow the personal progress in the studies of Artificial Intelligene B.Sc.\n",
    "##Github as Version Control will be used to track the changes and to have a fallback option in case of issues\n",
    "###My SQL will be used to store data in a database to ensure availability in case the personal computer crashes\n",
    "\n",
    "#Establishing connection between mysql and pycharm\n",
    "\n",
    "import mysql.connector\n",
    "\n",
    "mydb = mysql.connector.connect(\n",
    "    host = \"localhost\",\n",
    "    user = \"root\",\n",
    "    password = \"Hochzeit2309\",\n",
    ")\n",
    "\n",
    "mycursor = mydb.cursor()"
   ],
   "outputs": [],
   "execution_count": 1
  },
  {
   "metadata": {},
   "cell_type": "code",
   "outputs": [],
   "execution_count": null,
   "source": "",
   "id": "874ff7f7c3690b88"
  }
 ],
 "metadata": {
  "kernelspec": {
   "display_name": "Python 3",
   "language": "python",
   "name": "python3"
  },
  "language_info": {
   "codemirror_mode": {
    "name": "ipython",
    "version": 2
   },
   "file_extension": ".py",
   "mimetype": "text/x-python",
   "name": "python",
   "nbconvert_exporter": "python",
   "pygments_lexer": "ipython2",
   "version": "2.7.6"
  }
 },
 "nbformat": 4,
 "nbformat_minor": 5
}
