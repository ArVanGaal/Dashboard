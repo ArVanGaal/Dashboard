{
 "cells": [
  {
   "metadata": {},
   "cell_type": "markdown",
   "source": "# **Dashboard of Studies**",
   "id": "87236499e11580ee"
  },
  {
   "metadata": {
    "collapsed": true,
    "ExecuteTime": {
     "end_time": "2025-05-27T18:44:34.631309Z",
     "start_time": "2025-05-27T18:44:31.574329Z"
    }
   },
   "cell_type": "code",
   "source": [
    "#Dashboard to follow the personal progress in the studies of Artificial Intelligene B.Sc.\n",
    "##Github as Version Control will be used to track the changes and to have a fallback option in case of issues\n",
    "###My SQL will be used to store data in a database to ensure availability in case the personal computer crashes\n",
    "\n",
    "#Establishing connection between mysql and pycharm\n",
    "\n",
    "import mysql.connector\n",
    "\n",
    "mydb = mysql.connector.connect(\n",
    "    host = \"localhost\",\n",
    "    user = \"root\",\n",
    "    password = \"Hochzeit2309\",\n",
    ")\n",
    "\n",
    "mycursor = mydb.cursor()\n",
    "\n",
    "#Eingabekontrolle mit Anzeige des eingegebenen Wertes und Bestätigung durch yes oder no, gegebenenfalls Korrekturschleife\n",
    "# \"Yes\" wird durch .lower in allen Varianten akzeptiert, um Fehlerrate zu senken\n",
    "\n",
    "#Regex import, um Umlaute, Bindestriche und Leerzeichen bei der Namenseingabe zu ermöglichen\n",
    "import re\n",
    "\n",
    "try:\n",
    "    student_lastname = input(\"Enter your lastname\")\n",
    "\n",
    "    while True:\n",
    "        # Regex: ^[A-Za-zÄÖÜäöüß\\- ]+$ erlaubt Buchstaben (inkl. deutsche Umlaute), Bindestriche und Leerzeichen\n",
    "\n",
    "        if re.fullmatch(r\"[A-Za-zÄÖÜäöüß\\- ]+\", student_lastname) and student_lastname.strip() != \"\":\n",
    "            #re.fullmatch() prüft, ob die gesamte Eingabe dem gewünschten Muster entspricht.\n",
    "            #[A-Za-zÄÖÜäöüß\\- ]+ erlaubt Groß- und Kleinbuchstaben (auch deutsche Umlaute), Bindestriche und Leerzeichen\n",
    "            #name.strip() != \"\" stellt sicher, dass die Eingabe nicht nur aus Leerzeichen besteht\n",
    "            Correct = input (\"Your lastname is: \" + student_lastname + \". Is this correct? Enter yes or no: \")\n",
    "            if Correct.lower() == \"yes\":\n",
    "                break\n",
    "            else:\n",
    "                student_lastname = input(\"Please correct your input and enter your lastname again: \")\n",
    "        else:\n",
    "            student_lastname = input(\"You are allowed to use hyphens, spaces and umlauts only. Please correct your lastname! \")\n",
    "\n",
    "    print(\"Lastname: \"+ student_lastname)\n",
    "\n",
    "except ValueError:\n",
    "    print (\"Invalid input! Please enter only letters\")\n",
    "\n",
    "try:\n",
    "    student_firstname = input(\"Enter your firstname\")\n",
    "\n",
    "    while True:\n",
    "        # Regex: ^[A-Za-zÄÖÜäöüß\\- ]+$ erlaubt Buchstaben (inkl. deutsche Umlaute), Bindestriche und Leerzeichen\n",
    "\n",
    "        if re.fullmatch(r\"[A-Za-zÄÖÜäöüß\\- ]+\", student_firstname) and student_firstname.strip() != \"\":\n",
    "            #re.fullmatch() prüft, ob die gesamte Eingabe dem gewünschten Muster entspricht.\n",
    "            #[A-Za-zÄÖÜäöüß\\- ]+ erlaubt Groß- und Kleinbuchstaben (auch deutsche Umlaute), Bindestriche und Leerzeichen\n",
    "            #name.strip() != \"\" stellt sicher, dass die Eingabe nicht nur aus Leerzeichen besteht\n",
    "            Correct = input (\"Your firsttname is: \" + student_firstname + \". Is this correct? Enter yes or no: \")\n",
    "            if Correct.lower() == \"yes\":\n",
    "                break\n",
    "            else:\n",
    "                student_firstname = input(\"Please correct your input and enter your firstname again: \")\n",
    "        else:\n",
    "            student_firstname = input(\"You are allowed to use hyphens, spaces and umlauts only. Please correct your firstname! \")\n",
    "\n",
    "    print(\"Firstname: \"+ student_firstname)\n",
    "\n",
    "except ValueError:\n",
    "    print (\"Invalid input! Please enter only letters\")\n",
    "\n",
    "\n",
    "pattern = r\"^(0[1-9]|[12][0-9]|3[01])\\.(0[1-9]|1[0-2])\\.(19|20)\\d\\d$\"\n",
    "# pattern prüft, Tag: 01-31, Monat: 01-12, Jahr: 1900-2099\n",
    "\n",
    "from datetime import datetime\n",
    "# Importiere datetime, um die Existenz des eingegebenen Datums zu prüfen\n",
    "\n",
    "student_birthday = input(\"Enter your birthday in \\\"DD.MM.JJJJ\\\" format\")\n",
    "\n",
    "while True:\n",
    "\n",
    "    if re.match(pattern, student_birthday) and datetime.strptime(student_birthday, \"%d.%m.%Y\"):\n",
    "        # regex prüft format des Geburtstags\n",
    "        #datetime.strptime stellt sicher, dass es ein gültiges Datum ist.\n",
    "\n",
    "        correct = input (\"Your birthday is: \" + str(student_birthday) + \". Is this correct? Enter yes or no: \")\n",
    "        if correct.lower() == \"yes\":\n",
    "            break\n",
    "        else:\n",
    "            student_birthday = input(\"Please correct your birthday again in the format \\\"DD.MM.JJJJ\\\" or enter a valid date: \")\n",
    "\n",
    "    else:\n",
    "        student_birthday = input (\"You entered \\\" \" + student_birthday + \"\\\" You used the wrong format and/ or an unvalid date! Enter your birthday in the format \\\"DD.MM.JJJJ\\\" again: \")\n",
    "\n",
    "print (\"Birthday: \" + student_birthday)\n",
    "\n",
    "\n",
    "student_placebirth = input(\"Enter your place of birth in \\\"City, Country\\\" format\")\n",
    "\n",
    "while True:\n",
    "    Correct = input (\"Your place of birth is: \" + student_placebirth + \". Is this correct? Enter yes or no: \")\n",
    "    if Correct.lower() == \"yes\":\n",
    "        break\n",
    "    else:\n",
    "        student_placebirth = input(\"Please correct your input and enter your place of birth again: \")\n",
    "\n",
    "\n",
    "try:\n",
    "    student_studentnumber_input = input(\"Enter the digits of your IU-student number\")\n",
    "    student_studentnumber = int(student_studentnumber_input)\n",
    "\n",
    "    while True:\n",
    "        if student_studentnumber > 0 and len (student_studentnumber) < 9:\n",
    "                Correct = input (\"Your studentnumber is: \" + str(student_studentnumber) + \". Is this correct? Enter yes or no: \")\n",
    "                if Correct.lower() == \"yes\":\n",
    "                    break\n",
    "                else:\n",
    "                    student_studentnumber_input=  input (\"Please correct your input and enter your studentnumber again: \")\n",
    "                    student_studentnumber = int(student_studentnumber_input)\n",
    "        else:\n",
    "            student_studentnumber_input = input(\"Your input must be greater than 0. Please, enter the digits of you IU-student number\")\n",
    "            student_studentnumber = int(student_studentnumber_input)\n",
    "\n",
    "    iu_student_studentnumber = \"IU\" + str(student_studentnumber)\n",
    "\n",
    "    print (iu_student_studentnumber)\n",
    "\n",
    "except ValueError:\n",
    "    print (\"Invalid input! Please enter only digits\")\n",
    "\n",
    "\n",
    "student_studystart = input(\"Enter when you started your studies in \\\"DD.MM.JJJJ\\\" format\")\n",
    "\n",
    "while True:\n",
    "    Correct = input (\"Your start of study was: \" + student_studystart + \". Is this correct? Enter yes or no: \")\n",
    "    if Correct.lower() == \"yes\":\n",
    "        break\n",
    "    else:\n",
    "        student_studystart = input(\"Please correct your input and enter your start of studies again: \")\n",
    "\n",
    "\n",
    "print(\"Nachname: \"+ student_lastname)\n",
    "print(\"Vorname: \"+ student_firstname)\n",
    "print(\"Geburtstag: \"+ student_birthday)\n",
    "print(\"Geburtsort: \"+ student_placebirth)\n",
    "print(\"Matrikelnummer: \"+ iu_student_studentnumber)\n",
    "\n",
    "#Studiengang hardcoded, da das Dashboard nur für diesen Studiengang gültig\n",
    "print(\"Studiengang: Bachelor of Science Angewandte Künstliche Intelligenz\")\n",
    "print(\"Studienbeginn:\"+ student_studystart)"
   ],
   "id": "initial_id",
   "outputs": [
    {
     "ename": "KeyboardInterrupt",
     "evalue": "Interrupted by user",
     "output_type": "error",
     "traceback": [
      "\u001B[1;31m---------------------------------------------------------------------------\u001B[0m",
      "\u001B[1;31mKeyboardInterrupt\u001B[0m                         Traceback (most recent call last)",
      "Cell \u001B[1;32mIn[10], line 24\u001B[0m\n\u001B[0;32m     20\u001B[0m \u001B[38;5;66;03m#Eingabekontrolle mit Anzeige des eingegebenen Wertes und Bestätigung durch yes oder no, gegebenenfalls Korrekturschleife\u001B[39;00m\n\u001B[0;32m     21\u001B[0m \u001B[38;5;66;03m# \"Yes\" wird durch .lower in allen Varianten akzeptiert, um Fehlerrate zu senken\u001B[39;00m\n\u001B[0;32m     23\u001B[0m \u001B[38;5;28;01mtry\u001B[39;00m:\n\u001B[1;32m---> 24\u001B[0m     student_lastname \u001B[38;5;241m=\u001B[39m \u001B[38;5;28minput\u001B[39m(\u001B[38;5;124m\"\u001B[39m\u001B[38;5;124mEnter your lastname\u001B[39m\u001B[38;5;124m\"\u001B[39m)\n\u001B[0;32m     26\u001B[0m     \u001B[38;5;28;01mwhile\u001B[39;00m \u001B[38;5;28;01mTrue\u001B[39;00m:\n\u001B[0;32m     28\u001B[0m         \u001B[38;5;28;01mif\u001B[39;00m student_lastname\u001B[38;5;241m.\u001B[39misalpha():\n",
      "File \u001B[1;32m~\\anaconda3\\Lib\\site-packages\\ipykernel\\kernelbase.py:1262\u001B[0m, in \u001B[0;36mKernel.raw_input\u001B[1;34m(self, prompt)\u001B[0m\n\u001B[0;32m   1260\u001B[0m     msg \u001B[38;5;241m=\u001B[39m \u001B[38;5;124m\"\u001B[39m\u001B[38;5;124mraw_input was called, but this frontend does not support input requests.\u001B[39m\u001B[38;5;124m\"\u001B[39m\n\u001B[0;32m   1261\u001B[0m     \u001B[38;5;28;01mraise\u001B[39;00m StdinNotImplementedError(msg)\n\u001B[1;32m-> 1262\u001B[0m \u001B[38;5;28;01mreturn\u001B[39;00m \u001B[38;5;28mself\u001B[39m\u001B[38;5;241m.\u001B[39m_input_request(\n\u001B[0;32m   1263\u001B[0m     \u001B[38;5;28mstr\u001B[39m(prompt),\n\u001B[0;32m   1264\u001B[0m     \u001B[38;5;28mself\u001B[39m\u001B[38;5;241m.\u001B[39m_parent_ident[\u001B[38;5;124m\"\u001B[39m\u001B[38;5;124mshell\u001B[39m\u001B[38;5;124m\"\u001B[39m],\n\u001B[0;32m   1265\u001B[0m     \u001B[38;5;28mself\u001B[39m\u001B[38;5;241m.\u001B[39mget_parent(\u001B[38;5;124m\"\u001B[39m\u001B[38;5;124mshell\u001B[39m\u001B[38;5;124m\"\u001B[39m),\n\u001B[0;32m   1266\u001B[0m     password\u001B[38;5;241m=\u001B[39m\u001B[38;5;28;01mFalse\u001B[39;00m,\n\u001B[0;32m   1267\u001B[0m )\n",
      "File \u001B[1;32m~\\anaconda3\\Lib\\site-packages\\ipykernel\\kernelbase.py:1305\u001B[0m, in \u001B[0;36mKernel._input_request\u001B[1;34m(self, prompt, ident, parent, password)\u001B[0m\n\u001B[0;32m   1302\u001B[0m \u001B[38;5;28;01mexcept\u001B[39;00m \u001B[38;5;167;01mKeyboardInterrupt\u001B[39;00m:\n\u001B[0;32m   1303\u001B[0m     \u001B[38;5;66;03m# re-raise KeyboardInterrupt, to truncate traceback\u001B[39;00m\n\u001B[0;32m   1304\u001B[0m     msg \u001B[38;5;241m=\u001B[39m \u001B[38;5;124m\"\u001B[39m\u001B[38;5;124mInterrupted by user\u001B[39m\u001B[38;5;124m\"\u001B[39m\n\u001B[1;32m-> 1305\u001B[0m     \u001B[38;5;28;01mraise\u001B[39;00m \u001B[38;5;167;01mKeyboardInterrupt\u001B[39;00m(msg) \u001B[38;5;28;01mfrom\u001B[39;00m \u001B[38;5;28;01mNone\u001B[39;00m\n\u001B[0;32m   1306\u001B[0m \u001B[38;5;28;01mexcept\u001B[39;00m \u001B[38;5;167;01mException\u001B[39;00m:\n\u001B[0;32m   1307\u001B[0m     \u001B[38;5;28mself\u001B[39m\u001B[38;5;241m.\u001B[39mlog\u001B[38;5;241m.\u001B[39mwarning(\u001B[38;5;124m\"\u001B[39m\u001B[38;5;124mInvalid Message:\u001B[39m\u001B[38;5;124m\"\u001B[39m, exc_info\u001B[38;5;241m=\u001B[39m\u001B[38;5;28;01mTrue\u001B[39;00m)\n",
      "\u001B[1;31mKeyboardInterrupt\u001B[0m: Interrupted by user"
     ]
    }
   ],
   "execution_count": 10
  },
  {
   "metadata": {
    "ExecuteTime": {
     "end_time": "2025-05-27T18:47:04.227480Z",
     "start_time": "2025-05-27T18:46:55.960956Z"
    }
   },
   "cell_type": "code",
   "source": [
    "#Regex import, um Umlaute, Bindestriche und Leerzeichen bei der Namenseingabe zu ermöglichen\n",
    "import re\n",
    "\n",
    "try:\n",
    "    student_lastname = input(\"Enter your lastname\")\n",
    "\n",
    "    while True:\n",
    "        # Regex: ^[A-Za-zÄÖÜäöüß\\- ]+$ erlaubt Buchstaben (inkl. deutsche Umlaute), Bindestriche und Leerzeichen\n",
    "\n",
    "        if re.fullmatch(r\"[A-Za-zÄÖÜäöüß\\- ]+\", student_lastname) and student_lastname.strip() != \"\":\n",
    "            #re.fullmatch() prüft, ob die gesamte Eingabe dem gewünschten Muster entspricht.\n",
    "            #[A-Za-zÄÖÜäöüß\\- ]+ erlaubt Groß- und Kleinbuchstaben (auch deutsche Umlaute), Bindestriche und Leerzeichen\n",
    "            #name.strip() != \"\" stellt sicher, dass die Eingabe nicht nur aus Leerzeichen besteht\n",
    "            Correct = input (\"Your lastname is: \" + student_lastname + \". Is this correct? Enter yes or no: \")\n",
    "            if Correct.lower() == \"yes\":\n",
    "                break\n",
    "            else:\n",
    "                student_lastname = input(\"Please correct your input and enter your lastname again: \")\n",
    "        else:\n",
    "            student_lastname = input(\"You are allowed to use letters only. Please correct your lastname! \")\n",
    "\n",
    "    print(\"Nachname: \"+ student_lastname)\n",
    "\n",
    "except ValueError:\n",
    "    print (\"Invalid input! Please enter only letters\")\n"
   ],
   "id": "84baf4bbb0116518",
   "outputs": [
    {
     "name": "stdout",
     "output_type": "stream",
     "text": [
      "Nachname: Karl-Heinz\n"
     ]
    }
   ],
   "execution_count": 15
  },
  {
   "metadata": {},
   "cell_type": "code",
   "outputs": [],
   "execution_count": null,
   "source": "",
   "id": "bcd48ed67f34dcd4"
  },
  {
   "metadata": {
    "ExecuteTime": {
     "end_time": "2025-05-27T18:37:53.855978Z",
     "start_time": "2025-05-27T18:37:35.000527Z"
    }
   },
   "cell_type": "code",
   "source": [
    "#Formatierung der Eingabe bedenken -> IU + Anzahl der Ziffern; Geburtstag in DD.MM.JJJJ Format; Studienbeginn ebenfalls, das auch in der Eingabeaufforderung darstellen\n",
    "#Fehlermanagement bei falscher Eingabe implementieren\n",
    "\n",
    "try:\n",
    "    student_studentnumber = input(\"Enter the digits of your IU-student number\")\n",
    "\n",
    "\n",
    "    while True:\n",
    "        if student_studentnumber.isdigit() > 0 and len(student_studentnumber) == 8:\n",
    "                Correct = input (\"Your studentnumber is: \" + str(student_studentnumber) + \". Is this correct? Enter yes or no: \")\n",
    "                if Correct.lower() == \"yes\":\n",
    "                    break\n",
    "                else:\n",
    "                    student_studentnumber =  input (\"Please correct your input and enter your 8 digit studentnumber again: \")\n",
    "\n",
    "        else:\n",
    "            student_studentnumber = input(\"Your studentnumber must be a 8 digit number. Please, enter the digits of you IU-student number\")\n",
    "\n",
    "\n",
    "    iu_student_studentnumber = \"IU\" + str(student_studentnumber)\n",
    "\n",
    "    print (iu_student_studentnumber)\n",
    "\n",
    "except ValueError:\n",
    "    print (\"Invalid input! Please enter only digits\")"
   ],
   "id": "99ab5cc8f779249b",
   "outputs": [
    {
     "name": "stdout",
     "output_type": "stream",
     "text": [
      "IU12345688\n"
     ]
    }
   ],
   "execution_count": 7
  },
  {
   "metadata": {
    "ExecuteTime": {
     "end_time": "2025-05-27T19:19:33.120050Z",
     "start_time": "2025-05-27T19:19:26.381111Z"
    }
   },
   "cell_type": "code",
   "source": [
    "import re\n",
    "\n",
    "pattern = r\"^(0[1-9]|[12][0-9]|3[01])\\.(0[1-9]|1[0-2])\\.(19|20)\\d\\d$\"\n",
    "\n",
    "from datetime import datetime\n",
    "\n",
    "student_birthday = input(\"Enter your birthday in \\\"DD.MM.JJJJ\\\" format\")\n",
    "\n",
    "while True:\n",
    "\n",
    "    if re.match(pattern, student_birthday) and datetime.strptime(student_birthday, \"%d.%m.%Y\"):\n",
    "        correct = input (\"Your birthday is: \" + str(student_birthday) + \". Is this correct? Enter yes or no: \")\n",
    "        if correct.lower() == \"yes\":\n",
    "            break\n",
    "        else:\n",
    "            student_birthday = input(\"Please correct your birthday again in the format \\\"DD.MM.JJJJ\\\" or enter a valid date: \")\n",
    "\n",
    "    else:\n",
    "        student_birthday = input (\"You entered \\\" \" + student_birthday + \"\\\" You used the wrong format and/ or an unvalid date! Enter your birthday in the format \\\"DD.MM.JJJJ\\\" again: \")\n",
    "\n",
    "print (\"Birthday: \" + student_birthday)"
   ],
   "id": "6785a97e3759b7dc",
   "outputs": [
    {
     "ename": "KeyboardInterrupt",
     "evalue": "Interrupted by user",
     "output_type": "error",
     "traceback": [
      "\u001B[1;31m---------------------------------------------------------------------------\u001B[0m",
      "\u001B[1;31mKeyboardInterrupt\u001B[0m                         Traceback (most recent call last)",
      "Cell \u001B[1;32mIn[30], line 19\u001B[0m\n\u001B[0;32m     16\u001B[0m             student_birthday \u001B[38;5;241m=\u001B[39m \u001B[38;5;28minput\u001B[39m(\u001B[38;5;124m\"\u001B[39m\u001B[38;5;124mPlease correct your birthday again in the format \u001B[39m\u001B[38;5;130;01m\\\"\u001B[39;00m\u001B[38;5;124mDD.MM.JJJJ\u001B[39m\u001B[38;5;130;01m\\\"\u001B[39;00m\u001B[38;5;124m or enter a valid date: \u001B[39m\u001B[38;5;124m\"\u001B[39m)\n\u001B[0;32m     18\u001B[0m     \u001B[38;5;28;01melse\u001B[39;00m:\n\u001B[1;32m---> 19\u001B[0m         student_birthday \u001B[38;5;241m=\u001B[39m \u001B[38;5;28minput\u001B[39m (\u001B[38;5;124m\"\u001B[39m\u001B[38;5;124mYou entered \u001B[39m\u001B[38;5;130;01m\\\"\u001B[39;00m\u001B[38;5;124m \u001B[39m\u001B[38;5;124m\"\u001B[39m \u001B[38;5;241m+\u001B[39m student_birthday \u001B[38;5;241m+\u001B[39m \u001B[38;5;124m\"\u001B[39m\u001B[38;5;130;01m\\\"\u001B[39;00m\u001B[38;5;124m You used the wrong format and/ or an unvalid date! Enter your birthday in the format \u001B[39m\u001B[38;5;130;01m\\\"\u001B[39;00m\u001B[38;5;124mDD.MM.JJJJ\u001B[39m\u001B[38;5;130;01m\\\"\u001B[39;00m\u001B[38;5;124m again: \u001B[39m\u001B[38;5;124m\"\u001B[39m)\n\u001B[0;32m     21\u001B[0m \u001B[38;5;28mprint\u001B[39m (\u001B[38;5;124m\"\u001B[39m\u001B[38;5;124mBirthday: \u001B[39m\u001B[38;5;124m\"\u001B[39m \u001B[38;5;241m+\u001B[39m student_birthday)\n",
      "File \u001B[1;32m~\\anaconda3\\Lib\\site-packages\\ipykernel\\kernelbase.py:1262\u001B[0m, in \u001B[0;36mKernel.raw_input\u001B[1;34m(self, prompt)\u001B[0m\n\u001B[0;32m   1260\u001B[0m     msg \u001B[38;5;241m=\u001B[39m \u001B[38;5;124m\"\u001B[39m\u001B[38;5;124mraw_input was called, but this frontend does not support input requests.\u001B[39m\u001B[38;5;124m\"\u001B[39m\n\u001B[0;32m   1261\u001B[0m     \u001B[38;5;28;01mraise\u001B[39;00m StdinNotImplementedError(msg)\n\u001B[1;32m-> 1262\u001B[0m \u001B[38;5;28;01mreturn\u001B[39;00m \u001B[38;5;28mself\u001B[39m\u001B[38;5;241m.\u001B[39m_input_request(\n\u001B[0;32m   1263\u001B[0m     \u001B[38;5;28mstr\u001B[39m(prompt),\n\u001B[0;32m   1264\u001B[0m     \u001B[38;5;28mself\u001B[39m\u001B[38;5;241m.\u001B[39m_parent_ident[\u001B[38;5;124m\"\u001B[39m\u001B[38;5;124mshell\u001B[39m\u001B[38;5;124m\"\u001B[39m],\n\u001B[0;32m   1265\u001B[0m     \u001B[38;5;28mself\u001B[39m\u001B[38;5;241m.\u001B[39mget_parent(\u001B[38;5;124m\"\u001B[39m\u001B[38;5;124mshell\u001B[39m\u001B[38;5;124m\"\u001B[39m),\n\u001B[0;32m   1266\u001B[0m     password\u001B[38;5;241m=\u001B[39m\u001B[38;5;28;01mFalse\u001B[39;00m,\n\u001B[0;32m   1267\u001B[0m )\n",
      "File \u001B[1;32m~\\anaconda3\\Lib\\site-packages\\ipykernel\\kernelbase.py:1305\u001B[0m, in \u001B[0;36mKernel._input_request\u001B[1;34m(self, prompt, ident, parent, password)\u001B[0m\n\u001B[0;32m   1302\u001B[0m \u001B[38;5;28;01mexcept\u001B[39;00m \u001B[38;5;167;01mKeyboardInterrupt\u001B[39;00m:\n\u001B[0;32m   1303\u001B[0m     \u001B[38;5;66;03m# re-raise KeyboardInterrupt, to truncate traceback\u001B[39;00m\n\u001B[0;32m   1304\u001B[0m     msg \u001B[38;5;241m=\u001B[39m \u001B[38;5;124m\"\u001B[39m\u001B[38;5;124mInterrupted by user\u001B[39m\u001B[38;5;124m\"\u001B[39m\n\u001B[1;32m-> 1305\u001B[0m     \u001B[38;5;28;01mraise\u001B[39;00m \u001B[38;5;167;01mKeyboardInterrupt\u001B[39;00m(msg) \u001B[38;5;28;01mfrom\u001B[39;00m \u001B[38;5;28;01mNone\u001B[39;00m\n\u001B[0;32m   1306\u001B[0m \u001B[38;5;28;01mexcept\u001B[39;00m \u001B[38;5;167;01mException\u001B[39;00m:\n\u001B[0;32m   1307\u001B[0m     \u001B[38;5;28mself\u001B[39m\u001B[38;5;241m.\u001B[39mlog\u001B[38;5;241m.\u001B[39mwarning(\u001B[38;5;124m\"\u001B[39m\u001B[38;5;124mInvalid Message:\u001B[39m\u001B[38;5;124m\"\u001B[39m, exc_info\u001B[38;5;241m=\u001B[39m\u001B[38;5;28;01mTrue\u001B[39;00m)\n",
      "\u001B[1;31mKeyboardInterrupt\u001B[0m: Interrupted by user"
     ]
    }
   ],
   "execution_count": 30
  }
 ],
 "metadata": {
  "kernelspec": {
   "display_name": "Python 3",
   "language": "python",
   "name": "python3"
  },
  "language_info": {
   "codemirror_mode": {
    "name": "ipython",
    "version": 2
   },
   "file_extension": ".py",
   "mimetype": "text/x-python",
   "name": "python",
   "nbconvert_exporter": "python",
   "pygments_lexer": "ipython2",
   "version": "2.7.6"
  }
 },
 "nbformat": 4,
 "nbformat_minor": 5
}
