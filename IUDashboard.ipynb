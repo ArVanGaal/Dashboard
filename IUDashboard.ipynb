{
 "cells": [
  {
   "metadata": {},
   "cell_type": "markdown",
   "source": "# **Dashboard of Studies**\n",
   "id": "fc9c83777ba33a2c"
  },
  {
   "metadata": {
    "ExecuteTime": {
     "end_time": "2025-04-23T19:30:18.678092Z",
     "start_time": "2025-04-23T19:29:43.892874Z"
    }
   },
   "cell_type": "code",
   "source": [
    "import datetime\n",
    "\n",
    "from sphinx.builders.gettext import timestamp\n",
    "from tornado.httputil import format_timestamp\n",
    "\n",
    "student_lastname =  input(\"Enter Your Lastname\")\n",
    "student_firstname = input(\"Enter Your First Name\")\n",
    "student_birthday = input(\"Enter Your Birthday\")\n",
    "student_placebirth = input(\"Enter Your Place Of Birth\")\n",
    "student_studentnumber = input(\"Enter Your IU Student Number\")\n",
    "student_studystart = input(\"Enter When You Started Your Studies\")\n",
    "\n",
    "print(\"Nachname: \"+ student_lastname)\n",
    "print(\"Vorname: \"+ student_firstname)\n",
    "print(\"Geburtstag: \"+ student_birthday)\n",
    "print(\"Geburtsort: \"+ student_placebirth)\n",
    "print(\"Matrikelnummer: \"+ student_studentnumber)\n",
    "\n",
    "#Studiengang hardcoded, da das Dashboard nur für diesen Studiengang gültig\n",
    "print(\"Studiengang: Bachelor of Science Angewandte Künstliche Intelligenz\")\n",
    "print(\"Studienbeginn:\"+ student_studystart)\n"
   ],
   "id": "de4e2a1737d059e1",
   "outputs": [
    {
     "name": "stdout",
     "output_type": "stream",
     "text": [
      "Nachname: Gallinger\n",
      "Vorname: Arthur\n",
      "Geburtstag: 10.05.1990\n",
      "Geburtsort: Fergana, Usbekistan\n",
      "Matrikelnummer: IU123\n",
      "Studiengang: Bachelor of Science Angewandte Künstliche Intelligenz\n",
      "Studienbeginn:01.01.2024\n"
     ]
    }
   ],
   "execution_count": 9
  },
  {
   "metadata": {
    "ExecuteTime": {
     "end_time": "2025-04-24T08:53:48.550072Z",
     "start_time": "2025-04-24T08:53:48.542583Z"
    }
   },
   "cell_type": "code",
   "source": [
    "#Import date aus datetime um Datenanzeige zu ermöglichen\n",
    "from datetime import date\n",
    "\n",
    "# Ausstellungsdatum gleich Erstellungsdatum deshalb .today\n",
    "timestamp = date.today()\n",
    "\n",
    "#Formatierung der Ausgabe, um die Defaultausgabe in YYYY-MM-DD zu vermeiden\n",
    "\n",
    "format_timestamp = timestamp.strftime(\"%d.%m.%Y\")\n",
    "print(\"Ausstellungsdatum: \" + format_timestamp)"
   ],
   "id": "aa1570513f355a10",
   "outputs": [
    {
     "name": "stdout",
     "output_type": "stream",
     "text": [
      "Ausstellungsdatum: 24.04.2025\n"
     ]
    }
   ],
   "execution_count": 44
  },
  {
   "metadata": {},
   "cell_type": "code",
   "outputs": [],
   "execution_count": null,
   "source": "",
   "id": "6c4bfa25ebc469bf"
  }
 ],
 "metadata": {
  "kernelspec": {
   "name": "python3",
   "language": "python",
   "display_name": "Python 3 (ipykernel)"
  }
 },
 "nbformat": 5,
 "nbformat_minor": 9
}
