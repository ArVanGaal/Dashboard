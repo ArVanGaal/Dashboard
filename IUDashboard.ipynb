{
 "cells": [
  {
   "metadata": {},
   "cell_type": "markdown",
   "source": "# **Dashboard of Studies**",
   "id": "87236499e11580ee"
  },
  {
   "metadata": {
    "collapsed": true,
    "ExecuteTime": {
     "end_time": "2025-05-08T19:15:05.373589Z",
     "start_time": "2025-05-08T19:14:08.048710Z"
    }
   },
   "cell_type": "code",
   "source": [
    "#Dashboard to follow the personal progress in the studies of Artificial Intelligene B.Sc.\n",
    "##Github as Version Control will be used to track the changes and to have a fallback option in case of issues\n",
    "###My SQL will be used to store data in a database to ensure availability in case the personal computer crashes\n",
    "\n",
    "#Establishing connection between mysql and pycharm\n",
    "\n",
    "import mysql.connector\n",
    "\n",
    "mydb = mysql.connector.connect(\n",
    "    host = \"localhost\",\n",
    "    user = \"root\",\n",
    "    password = \"Hochzeit2309\",\n",
    ")\n",
    "\n",
    "mycursor = mydb.cursor()\n",
    "\n",
    "#Eingabekontrolle mit Anzeige des eingegebenen Wertes und Bestätigung durch yes oder no, gegebenenfalls Korrekturschleife\n",
    "# \"Yes\" wird durch .lower in allen Varianten akzeptiert, um Fehlerrate zu senken\n",
    "\n",
    "student_lastname = input(\"Enter your lastname\")\n",
    "\n",
    "while True:\n",
    "    Correct = input (\"Your lastname is: \" + student_lastname + \". Is this correct? Enter yes or no: \")\n",
    "    if Correct.lower() == \"yes\":\n",
    "        break\n",
    "    else:\n",
    "        student_lastname = input(\"Please correct your input and enter your lastname again: \")\n",
    "        print(f\"You corrected your Lastname to: {student_lastname}\")\n",
    "\n",
    "student_firstname = input(\"Enter your firstname\")\n",
    "\n",
    "while True:\n",
    "    Correct = input (\"Your firstname is: \" + student_firstname + \". Is this correct? Enter yes or no: \")\n",
    "    if Correct.lower() == \"yes\":\n",
    "        break\n",
    "    else:\n",
    "        student_firstname = input(\"Please correct your input and enter your firstname again: \")\n",
    "\n",
    "\n",
    "student_birthday = input(\"Enter your birthday\")\n",
    "\n",
    "while True:\n",
    "    Correct = input (\"Your birthday is: \" + student_birthday + \". Is this correct? Enter yes or no: \")\n",
    "    if Correct.lower() == \"yes\":\n",
    "        break\n",
    "    else:\n",
    "        student_birthday = input(\"Please correct your input and enter your birthday again: \")\n",
    "\n",
    "\n",
    "student_placebirth = input(\"Enter your place of birth\")\n",
    "\n",
    "while True:\n",
    "    Correct = input (\"Your place of birth is: \" + student_placebirth + \". Is this correct? Enter yes or no: \")\n",
    "    if Correct.lower() == \"yes\":\n",
    "        break\n",
    "    else:\n",
    "        student_placebirth = input(\"Please correct your input and enter your place of birth again: \")\n",
    "\n",
    "\n",
    "student_studentnumber = input(\"Enter your IU student number\")\n",
    "\n",
    "while True:\n",
    "    Correct = input (\"Your studentnumber is: \" + student_studentnumber + \". Is this correct? Enter yes or no: \")\n",
    "    if Correct.lower() == \"yes\":\n",
    "        break\n",
    "    else:\n",
    "        student_studentnumber = input(\"Please correct your input and enter your studentnumber again: \")\n",
    "\n",
    "\n",
    "student_studystart = input(\"Enter when you started your studies\")\n",
    "\n",
    "while True:\n",
    "    Correct = input (\"Your start of study was: \" + student_studystart + \". Is this correct? Enter yes or no: \")\n",
    "    if Correct.lower() == \"yes\":\n",
    "        break\n",
    "    else:\n",
    "        student_studystart = input(\"Please correct your input and enter your lastname again: \")\n",
    "\n",
    "\n",
    "print(\"Nachname: \"+ student_lastname)\n",
    "print(\"Vorname: \"+ student_firstname)\n",
    "print(\"Geburtstag: \"+ student_birthday)\n",
    "print(\"Geburtsort: \"+ student_placebirth)\n",
    "print(\"Matrikelnummer: \"+ student_studentnumber)\n",
    "\n",
    "#Studiengang hardcoded, da das Dashboard nur für diesen Studiengang gültig\n",
    "print(\"Studiengang: Bachelor of Science Angewandte Künstliche Intelligenz\")\n",
    "print(\"Studienbeginn:\"+ student_studystart)"
   ],
   "id": "initial_id",
   "outputs": [
    {
     "name": "stdout",
     "output_type": "stream",
     "text": [
      "Nachname: Gallinger\n",
      "Vorname: Arthur\n",
      "Geburtstag: 10.05.1990\n",
      "Geburtsort: Fergana\n",
      "Matrikelnummer: IU123\n",
      "Studiengang: Bachelor of Science Angewandte Künstliche Intelligenz\n",
      "Studienbeginn:01.01.2025\n"
     ]
    }
   ],
   "execution_count": 13
  },
  {
   "metadata": {
    "ExecuteTime": {
     "end_time": "2025-05-05T14:17:21.046908Z",
     "start_time": "2025-05-05T14:17:15.588090Z"
    }
   },
   "cell_type": "code",
   "source": [
    "#Eingabekontrolle durch Loop mit Anzeige des eingegebenen Wertes und Bestätigung durch Y/ N, gegebenfalls Korrekturschleife\n",
    "student_lastname = input(\"Enter Your Lastname\")\n",
    "print(f\"Lastname: {Student_lastname}\")"
   ],
   "id": "84baf4bbb0116518",
   "outputs": [
    {
     "name": "stdout",
     "output_type": "stream",
     "text": [
      "Lastname: Gallingre\n"
     ]
    }
   ],
   "execution_count": 24
  },
  {
   "metadata": {
    "ExecuteTime": {
     "end_time": "2025-05-08T18:57:24.858496Z",
     "start_time": "2025-05-08T18:57:06.814412Z"
    }
   },
   "cell_type": "code",
   "source": [
    "# Korrekturschleife, falls Eingabe falsch war, wobei für \"Yes\" alle Varianten akzeptiert werden sollen\n",
    "\n",
    "student_lastname = input(\"Enter Your Lastname\")\n",
    "\n",
    "while True:\n",
    "    Correct = input (\"Your lastname is: \" + student_lastname + \". Is this correct? Enter yes or no: \")\n",
    "    if Correct.lower() == \"yes\":\n",
    "        break\n",
    "    else:\n",
    "        student_lastname = input(\"Please correct your input and enter your lastname again: \")\n",
    "        print(f\"You corrected your Lastname to: {student_lastname}\")\n",
    "\n",
    "\n"
   ],
   "id": "e533159780d9b4e0",
   "outputs": [
    {
     "name": "stdout",
     "output_type": "stream",
     "text": [
      "You corrected your Lastname to: Gallinger\n"
     ]
    }
   ],
   "execution_count": 9
  },
  {
   "metadata": {},
   "cell_type": "code",
   "outputs": [],
   "execution_count": null,
   "source": "",
   "id": "ac316732f96c9a0e"
  },
  {
   "metadata": {
    "ExecuteTime": {
     "end_time": "2025-05-08T18:47:14.553118Z",
     "start_time": "2025-05-08T18:47:09.121055Z"
    }
   },
   "cell_type": "code",
   "source": [
    "    name = \"Alice\"\n",
    "    age = 30\n",
    "    message = \"Hallo, \" + name + \"! Wie alt sind Sie? (Bitte geben Sie \" + str(age) + \" ein oder eine andere Zahl): \"\n",
    "    eingabe = input(message)\n",
    "    print(f\"Eingabe: {eingabe}\")"
   ],
   "id": "152bc334273f5318",
   "outputs": [
    {
     "ename": "KeyboardInterrupt",
     "evalue": "Interrupted by user",
     "output_type": "error",
     "traceback": [
      "\u001B[1;31m---------------------------------------------------------------------------\u001B[0m",
      "\u001B[1;31mKeyboardInterrupt\u001B[0m                         Traceback (most recent call last)",
      "Cell \u001B[1;32mIn[2], line 4\u001B[0m\n\u001B[0;32m      2\u001B[0m age \u001B[38;5;241m=\u001B[39m \u001B[38;5;241m30\u001B[39m\n\u001B[0;32m      3\u001B[0m message \u001B[38;5;241m=\u001B[39m \u001B[38;5;124m\"\u001B[39m\u001B[38;5;124mHallo, \u001B[39m\u001B[38;5;124m\"\u001B[39m \u001B[38;5;241m+\u001B[39m name \u001B[38;5;241m+\u001B[39m \u001B[38;5;124m\"\u001B[39m\u001B[38;5;124m! Wie alt sind Sie? (Bitte geben Sie \u001B[39m\u001B[38;5;124m\"\u001B[39m \u001B[38;5;241m+\u001B[39m \u001B[38;5;28mstr\u001B[39m(age) \u001B[38;5;241m+\u001B[39m \u001B[38;5;124m\"\u001B[39m\u001B[38;5;124m ein oder eine andere Zahl): \u001B[39m\u001B[38;5;124m\"\u001B[39m\n\u001B[1;32m----> 4\u001B[0m eingabe \u001B[38;5;241m=\u001B[39m \u001B[38;5;28minput\u001B[39m(message)\n\u001B[0;32m      5\u001B[0m \u001B[38;5;28mprint\u001B[39m(\u001B[38;5;124mf\u001B[39m\u001B[38;5;124m\"\u001B[39m\u001B[38;5;124mEingabe: \u001B[39m\u001B[38;5;132;01m{\u001B[39;00meingabe\u001B[38;5;132;01m}\u001B[39;00m\u001B[38;5;124m\"\u001B[39m)\n",
      "File \u001B[1;32m~\\anaconda3\\Lib\\site-packages\\ipykernel\\kernelbase.py:1262\u001B[0m, in \u001B[0;36mKernel.raw_input\u001B[1;34m(self, prompt)\u001B[0m\n\u001B[0;32m   1260\u001B[0m     msg \u001B[38;5;241m=\u001B[39m \u001B[38;5;124m\"\u001B[39m\u001B[38;5;124mraw_input was called, but this frontend does not support input requests.\u001B[39m\u001B[38;5;124m\"\u001B[39m\n\u001B[0;32m   1261\u001B[0m     \u001B[38;5;28;01mraise\u001B[39;00m StdinNotImplementedError(msg)\n\u001B[1;32m-> 1262\u001B[0m \u001B[38;5;28;01mreturn\u001B[39;00m \u001B[38;5;28mself\u001B[39m\u001B[38;5;241m.\u001B[39m_input_request(\n\u001B[0;32m   1263\u001B[0m     \u001B[38;5;28mstr\u001B[39m(prompt),\n\u001B[0;32m   1264\u001B[0m     \u001B[38;5;28mself\u001B[39m\u001B[38;5;241m.\u001B[39m_parent_ident[\u001B[38;5;124m\"\u001B[39m\u001B[38;5;124mshell\u001B[39m\u001B[38;5;124m\"\u001B[39m],\n\u001B[0;32m   1265\u001B[0m     \u001B[38;5;28mself\u001B[39m\u001B[38;5;241m.\u001B[39mget_parent(\u001B[38;5;124m\"\u001B[39m\u001B[38;5;124mshell\u001B[39m\u001B[38;5;124m\"\u001B[39m),\n\u001B[0;32m   1266\u001B[0m     password\u001B[38;5;241m=\u001B[39m\u001B[38;5;28;01mFalse\u001B[39;00m,\n\u001B[0;32m   1267\u001B[0m )\n",
      "File \u001B[1;32m~\\anaconda3\\Lib\\site-packages\\ipykernel\\kernelbase.py:1305\u001B[0m, in \u001B[0;36mKernel._input_request\u001B[1;34m(self, prompt, ident, parent, password)\u001B[0m\n\u001B[0;32m   1302\u001B[0m \u001B[38;5;28;01mexcept\u001B[39;00m \u001B[38;5;167;01mKeyboardInterrupt\u001B[39;00m:\n\u001B[0;32m   1303\u001B[0m     \u001B[38;5;66;03m# re-raise KeyboardInterrupt, to truncate traceback\u001B[39;00m\n\u001B[0;32m   1304\u001B[0m     msg \u001B[38;5;241m=\u001B[39m \u001B[38;5;124m\"\u001B[39m\u001B[38;5;124mInterrupted by user\u001B[39m\u001B[38;5;124m\"\u001B[39m\n\u001B[1;32m-> 1305\u001B[0m     \u001B[38;5;28;01mraise\u001B[39;00m \u001B[38;5;167;01mKeyboardInterrupt\u001B[39;00m(msg) \u001B[38;5;28;01mfrom\u001B[39;00m \u001B[38;5;28;01mNone\u001B[39;00m\n\u001B[0;32m   1306\u001B[0m \u001B[38;5;28;01mexcept\u001B[39;00m \u001B[38;5;167;01mException\u001B[39;00m:\n\u001B[0;32m   1307\u001B[0m     \u001B[38;5;28mself\u001B[39m\u001B[38;5;241m.\u001B[39mlog\u001B[38;5;241m.\u001B[39mwarning(\u001B[38;5;124m\"\u001B[39m\u001B[38;5;124mInvalid Message:\u001B[39m\u001B[38;5;124m\"\u001B[39m, exc_info\u001B[38;5;241m=\u001B[39m\u001B[38;5;28;01mTrue\u001B[39;00m)\n",
      "\u001B[1;31mKeyboardInterrupt\u001B[0m: Interrupted by user"
     ]
    }
   ],
   "execution_count": 2
  }
 ],
 "metadata": {
  "kernelspec": {
   "display_name": "Python 3",
   "language": "python",
   "name": "python3"
  },
  "language_info": {
   "codemirror_mode": {
    "name": "ipython",
    "version": 2
   },
   "file_extension": ".py",
   "mimetype": "text/x-python",
   "name": "python",
   "nbconvert_exporter": "python",
   "pygments_lexer": "ipython2",
   "version": "2.7.6"
  }
 },
 "nbformat": 4,
 "nbformat_minor": 5
}
